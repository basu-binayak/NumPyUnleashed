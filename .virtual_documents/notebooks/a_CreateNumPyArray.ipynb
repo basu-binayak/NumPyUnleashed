


# import the library
import numpy as np





# Integer array 
int_array = np.array([1,5,6,8,9,3])
print(int_array)

# float array 
# note that numpy arrays are homogenous - hence if some types don't match, numpy will upcast them according to the promotion rules. In the example below, an int in upcast to float
float_array = np.array([2.3,4.5,6.7,5,8.9])
print(float_array)

# You can also mention the type while crearing the array 
float_array = np.array([1,2,3,4,5], dtype=np.float32)
print(float_array)

# Python lists are always one dimensional - however NumPy arrays can be multidimensional 
md_array = np.array([range(j,j+5) for j in range(1,4)]) # this is a 3x5 array
print(md_array)








# np.zeros
# 1D array
print(np.zeros(8)) # by default, creates a floating array of 0s of length 8
print(np.zeros(8, dtype=np.int32)) # create a integer array now 

# multidimensional
print(np.zeros((3,5))) # provide dtype if you want specifically a data type 





# np.ones 

# 1D array
print(np.ones(8))

# multidimensional array
print(np.ones((4,5)))





# np.full

# 1D array
print(np.full(5, fill_value=2.3)) # creates a array of length 5 filled with 2.3

# multidimensional
print(np.full((3,5), fill_value=3.4))





# np.arange 

print(np.arange(start=0, stop=20, step=2.5)) # this creates a array that starts at 0, goes till 20 with a step size of 2.5

# multidiemnsional 
print(np.array([range(i, i+3) for i in np.arange(0,20,5)]))


# np.linspace 

print(np.linspace(start=0, stop=20, num=30)) # gives a array of length 30 starting from 0 and ending at 20 equally spaced





# Create a 3x3 array of uniformly distributed pseudorandom values betweeen 0 and 1

print(np.random.random(size=(3,3)))
print(np.random.random(size=3))

# Create a 3x3 array of normally distributed pseudorandom values with mean 0 and sd 1 

print(np.random.normal(loc=0, scale=1, size=(3,3)))

# Create a 3x3 array of  pseudorandom integer values between 2 and 20
print(np.random.randint(low=2, high=20, size=(3,3)))





print(np.eye(N=3)) # create a 3x3 identity matrix





# np.empty 

print(np.empty(8)) # creates a uninitialized array of 8 integers - the values will be whatever happens to exist at that perticular memory location


np.empty((2,4))



