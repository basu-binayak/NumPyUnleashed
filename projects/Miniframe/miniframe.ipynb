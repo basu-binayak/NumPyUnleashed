{
 "cells": [
  {
   "cell_type": "markdown",
   "id": "7b64a2a9",
   "metadata": {},
   "source": [
    "# Build a Minimal DataFrame-like Structure Using NumPy"
   ]
  },
  {
   "cell_type": "markdown",
   "id": "b790075a",
   "metadata": {},
   "source": [
    "# Import the basic libraries "
   ]
  },
  {
   "cell_type": "code",
   "execution_count": 8,
   "id": "601bc8e9",
   "metadata": {},
   "outputs": [],
   "source": [
    "import numpy as np\n",
    "import matplotlib.pyplot as plt\n",
    "import seaborn as sns\n",
    "sns.set_style(style=\"darkgrid\")\n",
    "\n",
    "from miniframe import Miniframe"
   ]
  },
  {
   "cell_type": "code",
   "execution_count": 9,
   "id": "db6d9725",
   "metadata": {},
   "outputs": [
    {
     "data": {
      "text/plain": [
       "[(1, 'Alice', 176.5, 58.0),\n",
       " (2, 'David', 157.4, 57.3),\n",
       " (3, 'Alice', 151.8, 60.5),\n",
       " (4, 'Julia', 154.4, 70.8),\n",
       " (5, 'David', 160.4, 65.4),\n",
       " (6, 'Alice', 164.9, 49.1),\n",
       " (7, 'Julia', 156.5, 64.9),\n",
       " (8, 'Ian', 167.2, 56.4),\n",
       " (9, 'Ian', 165.0, 29.0),\n",
       " (10, 'Alice', 154.5, 70.7)]"
      ]
     },
     "execution_count": 9,
     "metadata": {},
     "output_type": "execute_result"
    }
   ],
   "source": [
    "# let us now consider a dataset \n",
    "# Generate 50 records\n",
    "# Sample name list\n",
    "names = ['Alice', 'Bob', 'Charlie', 'David', 'Eva', 'Frank', 'Grace', 'Hannah', 'Ian', 'Julia']\n",
    "data = []\n",
    "\n",
    "for i in range(1, 11):\n",
    "    name = str(np.random.choice(names, replace=False))\n",
    "    height = round(np.random.normal(loc=165, scale=10), 1)  # Avg 165cm, std dev 10\n",
    "    weight = round(np.random.normal(loc=65, scale=12), 1)   # Avg 65kg, std dev 12\n",
    "    data.append((i, name, height, weight))\n",
    "\n",
    "# Define dtype\n",
    "dtype = [('ID', 'i4'), ('Name', 'U10'), ('Height', 'f4'), ('Weight', 'f4')]\n",
    "\n",
    "data"
   ]
  },
  {
   "cell_type": "markdown",
   "id": "a8a387a3",
   "metadata": {},
   "source": [
    "- `'U10'` translates to `“Unicode string of maximum length 10,”`\n",
    "- `'f4'` translates to “4-byte (i.e., 32-bit) float.”"
   ]
  },
  {
   "cell_type": "code",
   "execution_count": 10,
   "id": "868de039",
   "metadata": {},
   "outputs": [
    {
     "data": {
      "text/plain": [
       "[( 1, 'Alice', 176.5, 58. ) ( 2, 'David', 157.4, 57.3)\n",
       " ( 3, 'Alice', 151.8, 60.5) ( 4, 'Julia', 154.4, 70.8)\n",
       " ( 5, 'David', 160.4, 65.4) ( 6, 'Alice', 164.9, 49.1)\n",
       " ( 7, 'Julia', 156.5, 64.9) ( 8, 'Ian', 167.2, 56.4)\n",
       " ( 9, 'Ian', 165. , 29. ) (10, 'Alice', 154.5, 70.7)]"
      ]
     },
     "execution_count": 10,
     "metadata": {},
     "output_type": "execute_result"
    }
   ],
   "source": [
    "# let us convert this to a strcutured array using Miniframe \n",
    "df = Miniframe(data=data, dtype=dtype)\n",
    "df"
   ]
  },
  {
   "cell_type": "code",
   "execution_count": 11,
   "id": "d5e70798",
   "metadata": {},
   "outputs": [
    {
     "data": {
      "text/plain": [
       "array([(1, 'Alice', 176.5, 58. ), (2, 'David', 157.4, 57.3),\n",
       "       (3, 'Alice', 151.8, 60.5)],\n",
       "      dtype=[('ID', '<i4'), ('Name', '<U10'), ('Height', '<f4'), ('Weight', '<f4')])"
      ]
     },
     "execution_count": 11,
     "metadata": {},
     "output_type": "execute_result"
    }
   ],
   "source": [
    "# let's say 3 results from head \n",
    "df.head(n=3)"
   ]
  },
  {
   "cell_type": "code",
   "execution_count": 12,
   "id": "bdadd512",
   "metadata": {},
   "outputs": [
    {
     "data": {
      "text/plain": [
       "array([( 8, 'Ian', 167.2, 56.4), ( 9, 'Ian', 165. , 29. ),\n",
       "       (10, 'Alice', 154.5, 70.7)],\n",
       "      dtype=[('ID', '<i4'), ('Name', '<U10'), ('Height', '<f4'), ('Weight', '<f4')])"
      ]
     },
     "execution_count": 12,
     "metadata": {},
     "output_type": "execute_result"
    }
   ],
   "source": [
    "# let's see three results from tail \n",
    "df.tail(n=3)"
   ]
  },
  {
   "cell_type": "code",
   "execution_count": 13,
   "id": "613f69df",
   "metadata": {},
   "outputs": [
    {
     "data": {
      "text/plain": [
       "(10,)"
      ]
     },
     "execution_count": 13,
     "metadata": {},
     "output_type": "execute_result"
    }
   ],
   "source": [
    "# see the shape \n",
    "df.shape()"
   ]
  },
  {
   "cell_type": "code",
   "execution_count": 14,
   "id": "50edb98e",
   "metadata": {},
   "outputs": [
    {
     "data": {
      "text/plain": [
       "40"
      ]
     },
     "execution_count": 14,
     "metadata": {},
     "output_type": "execute_result"
    }
   ],
   "source": [
    "# the size - total elements in the structured array \n",
    "df.size()"
   ]
  }
 ],
 "metadata": {
  "kernelspec": {
   "display_name": "Python 3",
   "language": "python",
   "name": "python3"
  },
  "language_info": {
   "codemirror_mode": {
    "name": "ipython",
    "version": 3
   },
   "file_extension": ".py",
   "mimetype": "text/x-python",
   "name": "python",
   "nbconvert_exporter": "python",
   "pygments_lexer": "ipython3",
   "version": "3.13.2"
  }
 },
 "nbformat": 4,
 "nbformat_minor": 5
}
