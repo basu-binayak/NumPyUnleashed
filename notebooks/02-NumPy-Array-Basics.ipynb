{
 "cells": [
  {
   "cell_type": "markdown",
   "metadata": {},
   "source": [
    "# Basics of NumPy Arrays\n",
    "\n",
    "## Topics\n",
    "- Attributes of NumPy Arrays \n",
    "- Indexing of NumPy Arrays \n",
    "- Slicing of NumPy Arrays\n",
    "- Reshaping NumPy Arrays \n",
    "- Concatenating of NumPy Arrays\n",
    "- Splitting of NumPy Arrays"
   ]
  },
  {
   "cell_type": "markdown",
   "metadata": {},
   "source": [
    "## Import NumPy"
   ]
  },
  {
   "cell_type": "code",
   "execution_count": 17,
   "metadata": {},
   "outputs": [],
   "source": [
    "import numpy as np"
   ]
  },
  {
   "cell_type": "markdown",
   "metadata": {},
   "source": [
    "## A. Attributes of NumPy Array\n",
    "- `ndim` - gives the dimensions of each array\n",
    "- `shape` - gives the shape of each array as a tuple \n",
    "- `size` - gives the total number of elements in the array\n",
    "- `dtype` - gives the data type of the array"
   ]
  },
  {
   "cell_type": "code",
   "execution_count": 18,
   "metadata": {},
   "outputs": [
    {
     "name": "stdout",
     "output_type": "stream",
     "text": [
      "The dimensions are : 1, 2, 3\n",
      "The shape are : (6,), (4, 5), (3, 4, 5)\n",
      "The sizes are : 6, 20, 60\n",
      "The datatypes are : int32, int32, int32\n"
     ]
    }
   ],
   "source": [
    "# contruct an array\n",
    "array_int_1D = np.random.randint(low=2, high=20, size=6) # 1 dimensional\n",
    "array_int_2D = np.random.randint(low=2, high=20, size=(4,5)) # 2 dimensional\n",
    "array_int_3D = np.random.randint(low=2, high=20, size=(3,4,5)) # 3 dimensional\n",
    "\n",
    "# accessing the attributes of the array\n",
    "print(f\"The dimensions are : {array_int_1D.ndim}, {array_int_2D.ndim}, {array_int_3D.ndim}\") # gives the dimensions of the three arrays\n",
    "\n",
    "print(f\"The shape are : {array_int_1D.shape}, {array_int_2D.shape}, {array_int_3D.shape}\") # gives the shape of the arrays \n",
    "\n",
    "print(f\"The sizes are : {array_int_1D.size}, {array_int_2D.size}, {array_int_3D.size}\") # gives the total number of elements in the array\n",
    "\n",
    "print(f\"The datatypes are : {array_int_1D.dtype}, {array_int_2D.dtype}, {array_int_3D.dtype}\") # gives the datatype of the elements of the array"
   ]
  },
  {
   "cell_type": "markdown",
   "metadata": {},
   "source": [
    "## B. Array Indexing"
   ]
  },
  {
   "cell_type": "markdown",
   "metadata": {},
   "source": [
    "Let us first take a look at the three arrays we have created. "
   ]
  },
  {
   "cell_type": "code",
   "execution_count": 19,
   "metadata": {},
   "outputs": [
    {
     "name": "stdout",
     "output_type": "stream",
     "text": [
      "ARRAY 1\n",
      "[ 4  5  8  7  7 15] \n",
      "\n",
      "ARRAY 2\n",
      "[[ 3 15 17  2 10]\n",
      " [ 6  7 10  5  2]\n",
      " [ 3 10  7 15 12]\n",
      " [19 16  5 12 14]] \n",
      "\n",
      "ARRAY 3\n",
      "[[[16  8  3 19  7]\n",
      "  [ 6 14  3  6 11]\n",
      "  [10  4  8 12  4]\n",
      "  [14  3 15  5 14]]\n",
      "\n",
      " [[11  3 15  9  9]\n",
      "  [18 18  7 15  6]\n",
      "  [17  4 13  2  4]\n",
      "  [ 2 17 10 13 16]]\n",
      "\n",
      " [[19  3  7  2 19]\n",
      "  [ 7  3 13  2 13]\n",
      "  [10 14 17 10  8]\n",
      "  [16 15 12 11  6]]]\n"
     ]
    }
   ],
   "source": [
    "print(\"ARRAY 1\")\n",
    "print(array_int_1D,'\\n')\n",
    "\n",
    "print(\"ARRAY 2\")\n",
    "print(array_int_2D,'\\n')\n",
    "\n",
    "print(\"ARRAY 3\")\n",
    "print(array_int_3D)"
   ]
  },
  {
   "cell_type": "code",
   "execution_count": 20,
   "metadata": {},
   "outputs": [
    {
     "name": "stdout",
     "output_type": "stream",
     "text": [
      "The second element of the 1 D array stated above is : 5\n",
      "The (1,2)th element i.e. the element at the intersection of the second row and the 3rd column is : 10\n",
      "The element at (1,2,0)th position is : 17\n"
     ]
    }
   ],
   "source": [
    "# indexing arrays\n",
    "\n",
    "# find the second element of the ARRAY 1\n",
    "print(f'The second element of the 1 D array stated above is : {array_int_1D[1]}')\n",
    "\n",
    "# find the element present at posotion (1,2) of the ARRAY 2 (note that indexing starts at 0)\n",
    "print(f'The (1,2)th element i.e. the element at the intersection of the second row and the 3rd column is : {array_int_2D[1,2]}')\n",
    "\n",
    "# find the element at position (1,2,0)\n",
    "print(f'The element at (1,2,0)th position is : {array_int_3D[1,2,0]}')"
   ]
  },
  {
   "cell_type": "markdown",
   "metadata": {},
   "source": [
    "## C. Array Slicing"
   ]
  },
  {
   "cell_type": "code",
   "execution_count": 21,
   "metadata": {},
   "outputs": [
    {
     "name": "stdout",
     "output_type": "stream",
     "text": [
      "ARRAY 1\n",
      "[ 4  5  8  7  7 15] \n",
      "\n",
      "ARRAY 2\n",
      "[[ 3 15 17  2 10]\n",
      " [ 6  7 10  5  2]\n",
      " [ 3 10  7 15 12]\n",
      " [19 16  5 12 14]] \n",
      "\n",
      "ARRAY 3\n",
      "[[[16  8  3 19  7]\n",
      "  [ 6 14  3  6 11]\n",
      "  [10  4  8 12  4]\n",
      "  [14  3 15  5 14]]\n",
      "\n",
      " [[11  3 15  9  9]\n",
      "  [18 18  7 15  6]\n",
      "  [17  4 13  2  4]\n",
      "  [ 2 17 10 13 16]]\n",
      "\n",
      " [[19  3  7  2 19]\n",
      "  [ 7  3 13  2 13]\n",
      "  [10 14 17 10  8]\n",
      "  [16 15 12 11  6]]]\n"
     ]
    }
   ],
   "source": [
    "print(\"ARRAY 1\")\n",
    "print(array_int_1D,'\\n')\n",
    "\n",
    "print(\"ARRAY 2\")\n",
    "print(array_int_2D,'\\n')\n",
    "\n",
    "print(\"ARRAY 3\")\n",
    "print(array_int_3D)"
   ]
  },
  {
   "cell_type": "code",
   "execution_count": 22,
   "metadata": {},
   "outputs": [
    {
     "name": "stdout",
     "output_type": "stream",
     "text": [
      "Sliced 1D array : [ 7  7 15]\n",
      "Every second element of the 1D array: [4 8 7]\n",
      "every second element from index 3, reversed : [7 5]\n",
      "First 2 rows and 3 columns:\n",
      "[[ 3 15 17]\n",
      " [ 6  7 10]]\n",
      "All rows and every second column:\n",
      " [[ 3 17 10]\n",
      " [ 6 10  2]\n",
      " [ 3  7 12]\n",
      " [19  5 14]]\n",
      "Rows ordering reversed(i.e. last row becomes the first row and so on):\n",
      "[[19 16  5 12 14]\n",
      " [ 3 10  7 15 12]\n",
      " [ 6  7 10  5  2]\n",
      " [ 3 15 17  2 10]]\n",
      "Columns ordering reversed: \n",
      "[[10  2 17 15  3]\n",
      " [ 2  5 10  7  6]\n",
      " [12 15  7 10  3]\n",
      " [14 12  5 16 19]]\n",
      "Both row and column ordering reversed:\n",
      "[[14 12  5 16 19]\n",
      " [12 15  7 10  3]\n",
      " [ 2  5 10  7  6]\n",
      " [10  2 17 15  3]]\n",
      "Second column:\n",
      "[15  7 10 16]\n",
      "Second row:\n",
      "[ 6  7 10  5  2]\n"
     ]
    }
   ],
   "source": [
    "# Slicing a 1 D array\n",
    "print(f\"Sliced 1D array : {array_int_1D[3:]}\")\n",
    "print(f\"Every second element of the 1D array: {array_int_1D[::2]}\")\n",
    "print(f\"every second element from index 3, reversed : {array_int_1D[3::-2]}\")\n",
    "\n",
    "# Slicing a 2 D array - Multidimensional Subarrays \n",
    "print(f\"First 2 rows and 3 columns:\\n{array_int_2D[:2, :3]}\")\n",
    "print(f\"All rows and every second column:\\n {array_int_2D[:, ::2]}\")\n",
    "print(f\"Rows ordering reversed(i.e. last row becomes the first row and so on):\\n{array_int_2D[::-1,:]}\")\n",
    "print(f\"Columns ordering reversed: \\n{array_int_2D[:,::-1]}\")\n",
    "print(f\"Both row and column ordering reversed:\\n{array_int_2D[::-1,::-1]}\")\n",
    "\n",
    "# Common operations on a 2D array - involves both indexing and slicing \n",
    "# The result is a 1D array \n",
    "print(f\"Second column:\\n{array_int_2D[:, 1]}\")\n",
    "print(f\"Second row:\\n{array_int_2D[1,:]}\")"
   ]
  },
  {
   "cell_type": "markdown",
   "metadata": {},
   "source": [
    "**NOTE**\n",
    "\n",
    "Unlike the Python list slices, NumPy array slices are returned as ***VIEWS*** rather than ***COPIES*** of the array data. Thus, any change made to the view, also impacts the original data."
   ]
  },
  {
   "cell_type": "code",
   "execution_count": 23,
   "metadata": {},
   "outputs": [
    {
     "name": "stdout",
     "output_type": "stream",
     "text": [
      "[[ 3 15 17  2 10]\n",
      " [ 6  7 10  5  2]\n",
      " [ 3 10  7 15 12]\n",
      " [19 16  5 12 14]]\n"
     ]
    }
   ],
   "source": [
    "# Illustration of the above point \n",
    "# Consider the 2 D array we are dealing with \n",
    "print(array_int_2D)"
   ]
  },
  {
   "cell_type": "code",
   "execution_count": 24,
   "metadata": {},
   "outputs": [
    {
     "name": "stdout",
     "output_type": "stream",
     "text": [
      "Sliced Subarray:\n",
      "[[ 3 15]\n",
      " [ 6  7]]\n",
      "Sliced Subarray after modification:\n",
      "[[100  15]\n",
      " [  6   7]]\n",
      "Original array has changed too!:\n",
      "[[100  15  17   2  10]\n",
      " [  6   7  10   5   2]\n",
      " [  3  10   7  15  12]\n",
      " [ 19  16   5  12  14]]\n"
     ]
    }
   ],
   "source": [
    "# let us slice this 2 D array and make another subarray\n",
    "subarray_int_2D = array_int_2D[:2, :2]\n",
    "print(f\"Sliced Subarray:\\n{subarray_int_2D}\")\n",
    "\n",
    "# let us change the first element of the subarray to 100\n",
    "subarray_int_2D[0,0] = 100\n",
    "print(f\"Sliced Subarray after modification:\\n{subarray_int_2D}\")\n",
    "\n",
    "# Let us see the original array now!\n",
    "print(f\"Original array has changed too!:\\n{array_int_2D}\")"
   ]
  },
  {
   "cell_type": "markdown",
   "metadata": {},
   "source": [
    "**✨ What is Fancy Slicing in NumPy?**\n",
    "\n",
    "- In NumPy, Fancy Slicing (or Fancy Indexing) means accessing elements using arrays (or lists) of indices, instead of using just a range or slice.\n",
    "\n",
    "- It gives you more flexibility — like picking out specific elements, rows, or columns in any order you want.\n",
    "\n"
   ]
  },
  {
   "cell_type": "code",
   "execution_count": 40,
   "metadata": {},
   "outputs": [
    {
     "name": "stdout",
     "output_type": "stream",
     "text": [
      "Sliced Subarray:\n",
      "[[ 6  7 10  5  2]\n",
      " [19 16  5 12 14]]\n",
      "Sliced Subarray after modification:\n",
      "[[  6 100  10   5   2]\n",
      " [ 19  16   5  12  14]]\n",
      "The array has not changed:\n",
      "[[100  15  17   2  10]\n",
      " [  6   7  10   5   2]\n",
      " [  3  10   7  15  12]\n",
      " [ 19  16   5  12  14]]\n"
     ]
    }
   ],
   "source": [
    "# BUT let us now do a fancy slicing \n",
    "# let us slice this 2 D array and make another subarray\n",
    "subarray_int_2D = array_int_2D[[1,3], :]\n",
    "print(f\"Sliced Subarray:\\n{subarray_int_2D}\")\n",
    "\n",
    "# let us change the (0,1) element of the subarray to 100\n",
    "subarray_int_2D[0,1] = 100\n",
    "print(f\"Sliced Subarray after modification:\\n{subarray_int_2D}\")\n",
    "\n",
    "# Let us see the original array now!\n",
    "print(f\"The array has not changed:\\n{array_int_2D}\")"
   ]
  },
  {
   "cell_type": "markdown",
   "metadata": {},
   "source": [
    "**Key Difference**\n",
    "- Simple slicing (like `array_int_2D[:2, :2]`) produces a **view**.\n",
    "- Fancy indexing (like `array_int_2D[[1, 3], :]`) produces a **copy**."
   ]
  },
  {
   "cell_type": "code",
   "execution_count": 41,
   "metadata": {},
   "outputs": [
    {
     "name": "stdout",
     "output_type": "stream",
     "text": [
      "Sliced Subarray:\n",
      "[[100  15]\n",
      " [  6   7]]\n",
      "Sliced Subarray after modification:\n",
      "[[200  15]\n",
      " [  6   7]]\n",
      "Array has not changed:\n",
      "[[100  15  17   2  10]\n",
      " [  6   7  10   5   2]\n",
      " [  3  10   7  15  12]\n",
      " [ 19  16   5  12  14]]\n"
     ]
    }
   ],
   "source": [
    "# We can, however, use the copy() method to deliberately create a copy in case of slicing\n",
    "\n",
    "# let us slice this 2 D array and make another subarray\n",
    "subarray_int_2D = array_int_2D[:2, :2].copy()\n",
    "print(f\"Sliced Subarray:\\n{subarray_int_2D}\")\n",
    "\n",
    "# let us change the first element of the subarray to 100\n",
    "subarray_int_2D[0,0] = 200\n",
    "print(f\"Sliced Subarray after modification:\\n{subarray_int_2D}\")\n",
    "\n",
    "# Let us see the original array now!\n",
    "print(f\"Array has not changed:\\n{array_int_2D}\")"
   ]
  },
  {
   "cell_type": "markdown",
   "metadata": {},
   "source": [
    "## D. Reshaping Arrays "
   ]
  },
  {
   "cell_type": "code",
   "execution_count": 42,
   "metadata": {},
   "outputs": [
    {
     "name": "stdout",
     "output_type": "stream",
     "text": [
      "Original 1 D array: \n",
      "[ 2.    4.25  6.5   8.75 11.   13.25 15.5  17.75 20.  ]\n",
      "The 1 D array after being reshaped to a 2 D array:\n",
      "[[ 2.    4.25  6.5 ]\n",
      " [ 8.75 11.   13.25]\n",
      " [15.5  17.75 20.  ]]\n"
     ]
    }
   ],
   "source": [
    "# Let us convert a 1 D array by reshaping it to a 2 D array \n",
    "array_1D = np.linspace(start=2, stop=20, num=9)\n",
    "print(f\"Original 1 D array: \\n{array_1D}\")\n",
    "\n",
    "array_1D_reshape_2D = array_1D.reshape((3,3))\n",
    "print(f\"The 1 D array after being reshaped to a 2 D array:\\n{array_1D_reshape_2D}\")"
   ]
  },
  {
   "cell_type": "code",
   "execution_count": 43,
   "metadata": {},
   "outputs": [
    {
     "name": "stdout",
     "output_type": "stream",
     "text": [
      "Original 1 D array: \n",
      "[ 2.    4.25  6.5   8.75 11.   13.25 15.5  17.75 20.  ]\n",
      "Row Vector:\n",
      "[[ 2.    4.25  6.5   8.75 11.   13.25 15.5  17.75 20.  ]]\n",
      "Column Vector:\n",
      "[[ 2.  ]\n",
      " [ 4.25]\n",
      " [ 6.5 ]\n",
      " [ 8.75]\n",
      " [11.  ]\n",
      " [13.25]\n",
      " [15.5 ]\n",
      " [17.75]\n",
      " [20.  ]]\n"
     ]
    }
   ],
   "source": [
    "# Often we convert 1 D array into a 2 D row or a column matrix\n",
    "print(f\"Original 1 D array: \\n{array_1D}\")\n",
    "\n",
    "# reshaping the 1 D to a row vector \n",
    "array_1D_rowvec = array_1D.reshape((1,9))\n",
    "print('Row Vector:')\n",
    "print(array_1D_rowvec)\n",
    "\n",
    "# reshaping the 1 D to a column vector \n",
    "array_1D_colvec = array_1D.reshape((9,1))\n",
    "print('Column Vector:')\n",
    "print(array_1D_colvec)"
   ]
  },
  {
   "cell_type": "markdown",
   "metadata": {},
   "source": [
    "There is an alternate way to acieve the same result! Here we will use the `np.newaxis`"
   ]
  },
  {
   "cell_type": "code",
   "execution_count": 44,
   "metadata": {},
   "outputs": [
    {
     "name": "stdout",
     "output_type": "stream",
     "text": [
      "Original 1 D array: \n",
      "[ 2.    4.25  6.5   8.75 11.   13.25 15.5  17.75 20.  ]\n",
      "Row Vector:\n",
      "[[ 2.    4.25  6.5   8.75 11.   13.25 15.5  17.75 20.  ]]\n",
      "Column Vector:\n",
      "[[ 2.  ]\n",
      " [ 4.25]\n",
      " [ 6.5 ]\n",
      " [ 8.75]\n",
      " [11.  ]\n",
      " [13.25]\n",
      " [15.5 ]\n",
      " [17.75]\n",
      " [20.  ]]\n"
     ]
    }
   ],
   "source": [
    "# Often we convert 1 D array into a 2 D row or a column matrix\n",
    "print(f\"Original 1 D array: \\n{array_1D}\")\n",
    "\n",
    "# reshaping the 1 D to a row vector \n",
    "array_1D_rowvec = array_1D[np.newaxis,:]\n",
    "print('Row Vector:')\n",
    "print(array_1D_rowvec)\n",
    "\n",
    "# reshaping the 1 D to a column vector \n",
    "array_1D_colvec = array_1D[:, np.newaxis]\n",
    "print('Column Vector:')\n",
    "print(array_1D_colvec)"
   ]
  },
  {
   "cell_type": "markdown",
   "metadata": {},
   "source": [
    "## E. Concatenating two arrays\n",
    "\n",
    "#### 🧠 Thumb Rule for axis in NumPy\n",
    "- `axis=0` (Vertical): Rows add up — columns must match\n",
    "- `axis=1` (Horizontal): Columns add up — rows must match"
   ]
  },
  {
   "cell_type": "code",
   "execution_count": null,
   "metadata": {},
   "outputs": [
    {
     "name": "stdout",
     "output_type": "stream",
     "text": [
      "[1 2 3 4 5 6 7 8 9]\n"
     ]
    }
   ],
   "source": [
    "# concatenating three 1 D arrays \n",
    "array_1 = np.array([1,2,3]) \n",
    "array_2 = np.array([4,5,6])\n",
    "array_3 = np.array([7,8,9])\n",
    "\n",
    "array_concat = np.concatenate([array_1, array_2, array_3]) # note pass the three arrays in a list\n",
    "print(array_concat)"
   ]
  },
  {
   "cell_type": "code",
   "execution_count": 47,
   "metadata": {},
   "outputs": [
    {
     "data": {
      "text/plain": [
       "array([[1, 2],\n",
       "       [3, 4],\n",
       "       [5, 6]])"
      ]
     },
     "execution_count": 47,
     "metadata": {},
     "output_type": "execute_result"
    }
   ],
   "source": [
    "# Vertical concatenate \n",
    "a = np.array([[1, 2],\n",
    "              [3, 4]]) # (2,2)\n",
    "\n",
    "b = np.array([[5, 6]]) # (1,2) i.e the columns do match\n",
    "\n",
    "result = np.concatenate((a, b), axis=0)\n",
    "result"
   ]
  },
  {
   "cell_type": "code",
   "execution_count": 48,
   "metadata": {},
   "outputs": [
    {
     "data": {
      "text/plain": [
       "array([[1, 2, 5],\n",
       "       [3, 4, 6]])"
      ]
     },
     "execution_count": 48,
     "metadata": {},
     "output_type": "execute_result"
    }
   ],
   "source": [
    "# horixontal concatenate \n",
    "a = np.array([[1, 2],\n",
    "              [3, 4]]) # (2,2)\n",
    "\n",
    "b = np.array([[5],\n",
    "              [6]]) # (2,1) - the row dim matches \n",
    "\n",
    "result = np.concatenate((a, b), axis=1)\n",
    "result"
   ]
  },
  {
   "cell_type": "markdown",
   "metadata": {},
   "source": [
    "So far, we have concatenated the arrays having the same dimensions. However, in reality, it is often the case where the dimensions are not equal. In such cases of **MIXED DIMENSIONS**, one should preferably use `np.hstack` and `np.vstack`"
   ]
  },
  {
   "cell_type": "code",
   "execution_count": null,
   "metadata": {},
   "outputs": [
    {
     "name": "stdout",
     "output_type": "stream",
     "text": [
      "[1 2 3]\n",
      "(3,)\n"
     ]
    }
   ],
   "source": [
    "print(array_1)\n",
    "print(array_1.shape) # the shape is (3,)"
   ]
  },
  {
   "cell_type": "code",
   "execution_count": null,
   "metadata": {},
   "outputs": [
    {
     "name": "stdout",
     "output_type": "stream",
     "text": [
      "[[1 2 3]\n",
      " [4 5 6]\n",
      " [7 8 9]]\n",
      "(3, 3)\n"
     ]
    }
   ],
   "source": [
    "array_4 = array_concat.reshape((3,3))\n",
    "print(array_4)\n",
    "print(array_4.shape) # (3,3) is the shape "
   ]
  },
  {
   "cell_type": "markdown",
   "metadata": {},
   "source": [
    "So, `array_1` and `array_4` have mixed dimensions. One of the array is a 1D array while the other is a 2D array. "
   ]
  },
  {
   "cell_type": "code",
   "execution_count": 51,
   "metadata": {},
   "outputs": [
    {
     "data": {
      "text/plain": [
       "array([[1, 2, 3],\n",
       "       [1, 2, 3],\n",
       "       [4, 5, 6],\n",
       "       [7, 8, 9]])"
      ]
     },
     "execution_count": 51,
     "metadata": {},
     "output_type": "execute_result"
    }
   ],
   "source": [
    "# vertically stack the array \n",
    "np.concatenate([array_1.reshape((1,3)), array_4])"
   ]
  },
  {
   "cell_type": "code",
   "execution_count": 52,
   "metadata": {},
   "outputs": [
    {
     "data": {
      "text/plain": [
       "array([[1, 1, 2, 3],\n",
       "       [2, 4, 5, 6],\n",
       "       [3, 7, 8, 9]])"
      ]
     },
     "execution_count": 52,
     "metadata": {},
     "output_type": "execute_result"
    }
   ],
   "source": [
    "# horizontally stack \n",
    "np.concatenate([array_1.reshape((3,1)), array_4], axis=1)"
   ]
  },
  {
   "cell_type": "code",
   "execution_count": 53,
   "metadata": {},
   "outputs": [
    {
     "name": "stdout",
     "output_type": "stream",
     "text": [
      "[[1 2 3]\n",
      " [1 2 3]\n",
      " [4 5 6]\n",
      " [7 8 9]]\n",
      "[[1 2 3]\n",
      " [4 5 6]\n",
      " [7 8 9]\n",
      " [1 2 3]]\n",
      "[[1 1 2 3]\n",
      " [2 4 5 6]\n",
      " [3 7 8 9]]\n"
     ]
    }
   ],
   "source": [
    "# np.hstack and np.vstack\n",
    "# say, I want to concatenate array_1 to array_4 row-wise i.e. vertically stack the arrays  \n",
    "print(np.vstack([array_1, array_4]))\n",
    "\n",
    "# better reshape the 1D vector to a 2D - makes more sense !\n",
    "print(np.vstack([array_4,array_1.reshape((1,3))])) # order matters\n",
    "\n",
    "# Let us now stack horizontally \n",
    "# before we stack it horizontally, we need to make it a column vector \n",
    "array_5 = array_1.reshape((3,1))\n",
    "print(np.hstack([array_5, array_4]))"
   ]
  },
  {
   "cell_type": "markdown",
   "metadata": {},
   "source": [
    "## F. Splitting of the Arrays"
   ]
  },
  {
   "cell_type": "code",
   "execution_count": 54,
   "metadata": {},
   "outputs": [
    {
     "name": "stdout",
     "output_type": "stream",
     "text": [
      "The concatenated array: [1 2 3 4 5 6 7 8 9]\n",
      "The three splits are: [1 2 3], [4 5 6], [7 8 9]\n",
      "The three splits are: [1 2 3], [4 5 6], [7 8 9]\n"
     ]
    }
   ],
   "source": [
    "# split the array_concat into three different arrays\n",
    "print(f\"The concatenated array: {array_concat}\")\n",
    "\n",
    "arr_split_1, arr_split_2, arr_split_3 = np.split(array_concat, indices_or_sections=[3,6])\n",
    "print(f\"The three splits are: {arr_split_1}, {arr_split_2}, {arr_split_3}\")\n",
    "\n",
    "arr_split_1, arr_split_2, arr_split_3 = np.split(array_concat, indices_or_sections=3)\n",
    "print(f\"The three splits are: {arr_split_1}, {arr_split_2}, {arr_split_3}\")"
   ]
  },
  {
   "cell_type": "markdown",
   "metadata": {},
   "source": [
    "Let us now consider a 2D array and split it."
   ]
  },
  {
   "cell_type": "code",
   "execution_count": 57,
   "metadata": {},
   "outputs": [
    {
     "data": {
      "text/plain": [
       "array([[1, 2, 3],\n",
       "       [4, 5, 6],\n",
       "       [7, 8, 9],\n",
       "       [1, 2, 3],\n",
       "       [4, 5, 6],\n",
       "       [7, 8, 9]])"
      ]
     },
     "execution_count": 57,
     "metadata": {},
     "output_type": "execute_result"
    }
   ],
   "source": [
    "array_concat_row = np.vstack([array_4, array_4])\n",
    "array_concat_row"
   ]
  },
  {
   "cell_type": "code",
   "execution_count": null,
   "metadata": {},
   "outputs": [
    {
     "data": {
      "text/plain": [
       "[array([[1, 2, 3],\n",
       "        [4, 5, 6],\n",
       "        [7, 8, 9]]),\n",
       " array([[1, 2, 3],\n",
       "        [4, 5, 6],\n",
       "        [7, 8, 9]])]"
      ]
     },
     "execution_count": 58,
     "metadata": {},
     "output_type": "execute_result"
    }
   ],
   "source": [
    "# vertical split \n",
    "np.split(array_concat_row, indices_or_sections=2, axis=0)"
   ]
  },
  {
   "cell_type": "code",
   "execution_count": 59,
   "metadata": {},
   "outputs": [
    {
     "data": {
      "text/plain": [
       "[array([[1, 2, 3],\n",
       "        [4, 5, 6],\n",
       "        [7, 8, 9]]),\n",
       " array([[1, 2, 3],\n",
       "        [4, 5, 6],\n",
       "        [7, 8, 9]])]"
      ]
     },
     "execution_count": 59,
     "metadata": {},
     "output_type": "execute_result"
    }
   ],
   "source": [
    "# alternate way to split vertically \n",
    "np.vsplit(ary=array_concat_row, indices_or_sections=2)"
   ]
  },
  {
   "cell_type": "code",
   "execution_count": 60,
   "metadata": {},
   "outputs": [
    {
     "data": {
      "text/plain": [
       "[array([[1, 2, 3],\n",
       "        [4, 5, 6]]),\n",
       " array([[7, 8, 9],\n",
       "        [1, 2, 3],\n",
       "        [4, 5, 6],\n",
       "        [7, 8, 9]])]"
      ]
     },
     "execution_count": 60,
     "metadata": {},
     "output_type": "execute_result"
    }
   ],
   "source": [
    "# split at a particular index \n",
    "np.vsplit(ary=array_concat_row, indices_or_sections=[2])"
   ]
  },
  {
   "cell_type": "code",
   "execution_count": 62,
   "metadata": {},
   "outputs": [
    {
     "data": {
      "text/plain": [
       "[array([[1, 2],\n",
       "        [4, 5],\n",
       "        [7, 8],\n",
       "        [1, 2],\n",
       "        [4, 5],\n",
       "        [7, 8]]),\n",
       " array([[3],\n",
       "        [6],\n",
       "        [9],\n",
       "        [3],\n",
       "        [6],\n",
       "        [9]])]"
      ]
     },
     "execution_count": 62,
     "metadata": {},
     "output_type": "execute_result"
    }
   ],
   "source": [
    "# let us do a horizontal split now \n",
    "np.hsplit(ary=array_concat_row, indices_or_sections=[2]) # hsplits at index 2 "
   ]
  },
  {
   "cell_type": "code",
   "execution_count": 63,
   "metadata": {},
   "outputs": [
    {
     "data": {
      "text/plain": [
       "[array([[1, 2],\n",
       "        [4, 5],\n",
       "        [7, 8],\n",
       "        [1, 2],\n",
       "        [4, 5],\n",
       "        [7, 8]]),\n",
       " array([[3],\n",
       "        [6],\n",
       "        [9],\n",
       "        [3],\n",
       "        [6],\n",
       "        [9]])]"
      ]
     },
     "execution_count": 63,
     "metadata": {},
     "output_type": "execute_result"
    }
   ],
   "source": [
    "# alternate way\n",
    "np.split(array_concat_row, indices_or_sections=[2], axis=1)"
   ]
  },
  {
   "cell_type": "markdown",
   "metadata": {},
   "source": [
    "---\n",
    "\n",
    "Thank You\n",
    "\n",
    "---"
   ]
  }
 ],
 "metadata": {
  "kernelspec": {
   "display_name": "Python 3",
   "language": "python",
   "name": "python3"
  },
  "language_info": {
   "codemirror_mode": {
    "name": "ipython",
    "version": 3
   },
   "file_extension": ".py",
   "mimetype": "text/x-python",
   "name": "python",
   "nbconvert_exporter": "python",
   "pygments_lexer": "ipython3",
   "version": "3.13.2"
  }
 },
 "nbformat": 4,
 "nbformat_minor": 4
}
