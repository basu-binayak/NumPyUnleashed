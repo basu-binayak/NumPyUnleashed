{
 "cells": [
  {
   "cell_type": "markdown",
   "metadata": {},
   "source": [
    "# NumPy Array Basics"
   ]
  },
  {
   "cell_type": "code",
   "execution_count": 5,
   "metadata": {},
   "outputs": [],
   "source": [
    "import numpy as np"
   ]
  },
  {
   "cell_type": "markdown",
   "metadata": {},
   "source": [
    "## Attributes of NumPy Array"
   ]
  },
  {
   "cell_type": "code",
   "execution_count": 6,
   "metadata": {},
   "outputs": [
    {
     "name": "stdout",
     "output_type": "stream",
     "text": [
      "The dimensions are : 1, 2, 3\n",
      "The shape are : (6,), (4, 5), (3, 4, 5)\n",
      "The sizes are : 6, 20, 60\n",
      "The datatypes are : int32, int32, int32\n"
     ]
    }
   ],
   "source": [
    "# contruct an array\n",
    "array_int_1D = np.random.randint(low=2, high=20, size=6) # 1 dimensional\n",
    "array_int_2D = np.random.randint(low=2, high=20, size=(4,5)) # 2 dimensional\n",
    "array_int_3D = np.random.randint(low=2, high=20, size=(3,4,5)) # 3 dimensional\n",
    "\n",
    "# accessing the attributes of the array\n",
    "print(f\"The dimensions are : {array_int_1D.ndim}, {array_int_2D.ndim}, {array_int_3D.ndim}\") # gives the dimensions of the three arrays\n",
    "print(f\"The shape are : {array_int_1D.shape}, {array_int_2D.shape}, {array_int_3D.shape}\") # gives the shape of the arrays \n",
    "print(f\"The sizes are : {array_int_1D.size}, {array_int_2D.size}, {array_int_3D.size}\") # gives the total number of elements in the array\n",
    "print(f\"The datatypes are : {array_int_1D.dtype}, {array_int_2D.dtype}, {array_int_3D.dtype}\") # gives the datatype of the elements of the array"
   ]
  },
  {
   "cell_type": "markdown",
   "metadata": {},
   "source": [
    "## Array Indexing"
   ]
  },
  {
   "cell_type": "code",
   "execution_count": 7,
   "metadata": {},
   "outputs": [
    {
     "name": "stdout",
     "output_type": "stream",
     "text": [
      "[18 14  5  8 12 16] \n",
      "\n",
      "[[ 8  3 12  9  5]\n",
      " [ 3 12 13  4  4]\n",
      " [ 7 19  9  7  7]\n",
      " [13  7  5  7 11]] \n",
      "\n",
      "[[[ 5  7 10 14 13]\n",
      "  [19  4  2  9  3]\n",
      "  [11 11  7  9 14]\n",
      "  [ 3 14  6 19 10]]\n",
      "\n",
      " [[ 5 12  9 10 11]\n",
      "  [18 19  9  2  9]\n",
      "  [ 9 12 19  2 19]\n",
      "  [15  5  2  6  2]]\n",
      "\n",
      " [[12 14 16 14  9]\n",
      "  [10 14  2 17 12]\n",
      "  [16 14  7 18  6]\n",
      "  [11  5  8 17  4]]]\n"
     ]
    }
   ],
   "source": [
    "print(array_int_1D,'\\n')\n",
    "print(array_int_2D,'\\n')\n",
    "print(array_int_3D)"
   ]
  },
  {
   "cell_type": "code",
   "execution_count": 8,
   "metadata": {},
   "outputs": [
    {
     "name": "stdout",
     "output_type": "stream",
     "text": [
      "The second element of the 1 D array stated above is : 14\n",
      "The (2,3)th element i.e. the element at the intersection of the second row and the 3rd column is : 13\n",
      "The element at (2,3,1)th position is : 9\n"
     ]
    }
   ],
   "source": [
    "# indexing a 1 D array\n",
    "print(f'The second element of the 1 D array stated above is : {array_int_1D[1]}')\n",
    "print(f'The (2,3)th element i.e. the element at the intersection of the second row and the 3rd column is : {array_int_2D[1,2]}')\n",
    "print(f'The element at (2,3,1)th position is : {array_int_3D[1,2,0]}')"
   ]
  },
  {
   "cell_type": "markdown",
   "metadata": {},
   "source": [
    "## Array Slicing"
   ]
  },
  {
   "cell_type": "code",
   "execution_count": 9,
   "metadata": {},
   "outputs": [
    {
     "name": "stdout",
     "output_type": "stream",
     "text": [
      "Sliced 1 D array : [ 8 12 16]\n",
      "Every second element of the 1 D array: [18  5 12]\n",
      "every second element from index 3, reversed : [ 8 14]\n",
      "First 2 rows and 3 columns:\n",
      "[[ 8  3 12]\n",
      " [ 3 12 13]]\n",
      "All rows and every second column:\n",
      " [[ 8 12  5]\n",
      " [ 3 13  4]\n",
      " [ 7  9  7]\n",
      " [13  5 11]]\n",
      "Rows ordering reversed(i.e. last row becomes the first row and so on):\n",
      "[[13  7  5  7 11]\n",
      " [ 7 19  9  7  7]\n",
      " [ 3 12 13  4  4]\n",
      " [ 8  3 12  9  5]]\n",
      "Columns ordering reversed: \n",
      "[[ 5  9 12  3  8]\n",
      " [ 4  4 13 12  3]\n",
      " [ 7  7  9 19  7]\n",
      " [11  7  5  7 13]]\n",
      "Both row and column ordering reversed:\n",
      "[[11  7  5  7 13]\n",
      " [ 7  7  9 19  7]\n",
      " [ 4  4 13 12  3]\n",
      " [ 5  9 12  3  8]]\n",
      "Second column:\n",
      "[ 3 12 19  7]\n",
      "Second row:\n",
      "[ 3 12 13  4  4]\n"
     ]
    }
   ],
   "source": [
    "# Slicing a 1 D array \n",
    "print(f\"Sliced 1 D array : {array_int_1D[3:]}\")\n",
    "print(f\"Every second element of the 1 D array: {array_int_1D[::2]}\")\n",
    "print(f\"every second element from index 3, reversed : {array_int_1D[3::-2]}\")\n",
    "\n",
    "# Slicing a 2 D array - Multidimensional Subarrays \n",
    "print(f\"First 2 rows and 3 columns:\\n{array_int_2D[:2, :3]}\")\n",
    "print(f\"All rows and every second column:\\n {array_int_2D[:, ::2]}\")\n",
    "print(f\"Rows ordering reversed(i.e. last row becomes the first row and so on):\\n{array_int_2D[::-1,:]}\")\n",
    "print(f\"Columns ordering reversed: \\n{array_int_2D[:,::-1]}\")\n",
    "print(f\"Both row and column ordering reversed:\\n{array_int_2D[::-1,::-1]}\")\n",
    "\n",
    "# Common operations on a 2 D array - involves both indexing and slicing \n",
    "print(f\"Second column:\\n{array_int_2D[:, 1]}\")\n",
    "print(f\"Second row:\\n{array_int_2D[1,:]}\")"
   ]
  },
  {
   "cell_type": "markdown",
   "metadata": {},
   "source": [
    "**NOTE**\n",
    "\n",
    "Unlike the Python list slices, NumPy array slices are returned as ***VIEWS*** rather than ***COPIES*** of the array data. Thus, any change made to the view, also impacts the original data."
   ]
  },
  {
   "cell_type": "code",
   "execution_count": 22,
   "metadata": {},
   "outputs": [
    {
     "name": "stdout",
     "output_type": "stream",
     "text": [
      "[[100   3  12   9   5]\n",
      " [  3  12  13   4   4]\n",
      " [  7  19   9   7   7]\n",
      " [ 13   7   5   7  11]]\n"
     ]
    }
   ],
   "source": [
    "# Illustration of the above point \n",
    "# Consider the 2 D array we are dealing with \n",
    "print(array_int_2D)"
   ]
  },
  {
   "cell_type": "code",
   "execution_count": 23,
   "metadata": {},
   "outputs": [
    {
     "name": "stdout",
     "output_type": "stream",
     "text": [
      "Sliced Subarray:\n",
      "[[100   3]\n",
      " [  3  12]]\n",
      "Sliced Subarray after modification:\n",
      "[[100   3]\n",
      " [  3  12]]\n",
      "Original array has changed too!:\n",
      "[[100   3  12   9   5]\n",
      " [  3  12  13   4   4]\n",
      " [  7  19   9   7   7]\n",
      " [ 13   7   5   7  11]]\n"
     ]
    }
   ],
   "source": [
    "# let us slice this 2 D array and make another subarray\n",
    "subarray_int_2D = array_int_2D[:2, :2]\n",
    "print(f\"Sliced Subarray:\\n{subarray_int_2D}\")\n",
    "\n",
    "# let us change the first element of the subarray to 100\n",
    "subarray_int_2D[0,0] = 100\n",
    "print(f\"Sliced Subarray after modification:\\n{subarray_int_2D}\")\n",
    "\n",
    "# Let us see the original array now!\n",
    "print(f\"Original array has changed too!:\\n{array_int_2D}\")"
   ]
  },
  {
   "cell_type": "code",
   "execution_count": 24,
   "metadata": {},
   "outputs": [
    {
     "name": "stdout",
     "output_type": "stream",
     "text": [
      "Sliced Subarray:\n",
      "[[ 3 12 13  4  4]\n",
      " [13  7  5  7 11]]\n",
      "Sliced Subarray after modification:\n",
      "[[  3 100  13   4   4]\n",
      " [ 13   7   5   7  11]]\n",
      "The array has not changed:\n",
      "[[100   3  12   9   5]\n",
      " [  3  12  13   4   4]\n",
      " [  7  19   9   7   7]\n",
      " [ 13   7   5   7  11]]\n"
     ]
    }
   ],
   "source": [
    "# BUT let us now do a fancy slicing \n",
    "# let us slice this 2 D array and make another subarray\n",
    "subarray_int_2D = array_int_2D[[1,3], :]\n",
    "print(f\"Sliced Subarray:\\n{subarray_int_2D}\")\n",
    "\n",
    "# let us change the (0,1) element of the subarray to 100\n",
    "subarray_int_2D[0,1] = 100\n",
    "print(f\"Sliced Subarray after modification:\\n{subarray_int_2D}\")\n",
    "\n",
    "# Let us see the original array now!\n",
    "print(f\"The array has not changed:\\n{array_int_2D}\")"
   ]
  },
  {
   "cell_type": "markdown",
   "metadata": {},
   "source": [
    "**Key Difference**\n",
    "- Simple slicing (like `array_int_2D[:2, :2]`) produces a **view**.\n",
    "- Fancy indexing (like `array_int_2D[[1, 3], :]`) produces a **copy**."
   ]
  },
  {
   "cell_type": "code",
   "execution_count": 25,
   "metadata": {},
   "outputs": [
    {
     "name": "stdout",
     "output_type": "stream",
     "text": [
      "Sliced Subarray:\n",
      "[[100   3]\n",
      " [  3  12]]\n",
      "Sliced Subarray after modification:\n",
      "[[200   3]\n",
      " [  3  12]]\n",
      "Array has not changed:\n",
      "[[100   3  12   9   5]\n",
      " [  3  12  13   4   4]\n",
      " [  7  19   9   7   7]\n",
      " [ 13   7   5   7  11]]\n"
     ]
    }
   ],
   "source": [
    "# We can, however, use the copy() method to deliberatey create a copy in case of slicing\n",
    "\n",
    "# let us slice this 2 D array and make another subarray\n",
    "subarray_int_2D = array_int_2D[:2, :2].copy()\n",
    "print(f\"Sliced Subarray:\\n{subarray_int_2D}\")\n",
    "\n",
    "# let us change the first element of the subarray to 100\n",
    "subarray_int_2D[0,0] = 200\n",
    "print(f\"Sliced Subarray after modification:\\n{subarray_int_2D}\")\n",
    "\n",
    "# Let us see the original array now!\n",
    "print(f\"Array has not changed:\\n{array_int_2D}\")"
   ]
  },
  {
   "cell_type": "markdown",
   "metadata": {},
   "source": [
    "## Reshaping Arrays "
   ]
  },
  {
   "cell_type": "code",
   "execution_count": 26,
   "metadata": {},
   "outputs": [
    {
     "name": "stdout",
     "output_type": "stream",
     "text": [
      "Original 1 D array: \n",
      "[ 2.    4.25  6.5   8.75 11.   13.25 15.5  17.75 20.  ]\n",
      "The 1 D array after being reshaped to a 2 D array:\n",
      "[[ 2.    4.25  6.5 ]\n",
      " [ 8.75 11.   13.25]\n",
      " [15.5  17.75 20.  ]]\n"
     ]
    }
   ],
   "source": [
    "# Let us convert a 1 D array by reshaping it to a 2 D array \n",
    "array_1D = np.linspace(start=2, stop=20, num=9)\n",
    "print(f\"Original 1 D array: \\n{array_1D}\")\n",
    "\n",
    "array_1D_reshape_2D = array_1D.reshape((3,3))\n",
    "print(f\"The 1 D array after being reshaped to a 2 D array:\\n{array_1D_reshape_2D}\")"
   ]
  },
  {
   "cell_type": "code",
   "execution_count": 27,
   "metadata": {},
   "outputs": [
    {
     "name": "stdout",
     "output_type": "stream",
     "text": [
      "Original 1 D array: \n",
      "[ 2.    4.25  6.5   8.75 11.   13.25 15.5  17.75 20.  ]\n",
      "Row Vector:\n",
      "[[ 2.    4.25  6.5   8.75 11.   13.25 15.5  17.75 20.  ]]\n",
      "Column Vector:\n",
      "[[ 2.  ]\n",
      " [ 4.25]\n",
      " [ 6.5 ]\n",
      " [ 8.75]\n",
      " [11.  ]\n",
      " [13.25]\n",
      " [15.5 ]\n",
      " [17.75]\n",
      " [20.  ]]\n"
     ]
    }
   ],
   "source": [
    "# Often we convert 1 D array into a 2 D row or a column matrix\n",
    "print(f\"Original 1 D array: \\n{array_1D}\")\n",
    "\n",
    "# reshaping the 1 D to a row vector \n",
    "array_1D_rowvec = array_1D.reshape((1,9))\n",
    "print('Row Vector:')\n",
    "print(array_1D_rowvec)\n",
    "\n",
    "# reshaping the 1 D to a column vector \n",
    "array_1D_colvec = array_1D.reshape((9,1))\n",
    "print('Column Vector:')\n",
    "print(array_1D_colvec)"
   ]
  },
  {
   "cell_type": "markdown",
   "metadata": {},
   "source": [
    "There is an alternate way to acieve the same result! Here we will use the `np.newaxis`"
   ]
  },
  {
   "cell_type": "code",
   "execution_count": 28,
   "metadata": {},
   "outputs": [
    {
     "name": "stdout",
     "output_type": "stream",
     "text": [
      "Original 1 D array: \n",
      "[ 2.    4.25  6.5   8.75 11.   13.25 15.5  17.75 20.  ]\n",
      "Row Vector:\n",
      "[[ 2.    4.25  6.5   8.75 11.   13.25 15.5  17.75 20.  ]]\n",
      "Column Vector:\n",
      "[[ 2.  ]\n",
      " [ 4.25]\n",
      " [ 6.5 ]\n",
      " [ 8.75]\n",
      " [11.  ]\n",
      " [13.25]\n",
      " [15.5 ]\n",
      " [17.75]\n",
      " [20.  ]]\n"
     ]
    }
   ],
   "source": [
    "# Often we convert 1 D array into a 2 D row or a column matrix\n",
    "print(f\"Original 1 D array: \\n{array_1D}\")\n",
    "\n",
    "# reshaping the 1 D to a row vector \n",
    "array_1D_rowvec = array_1D[np.newaxis,:]\n",
    "print('Row Vector:')\n",
    "print(array_1D_rowvec)\n",
    "\n",
    "# reshaping the 1 D to a column vector \n",
    "array_1D_colvec = array_1D[:, np.newaxis]\n",
    "print('Column Vector:')\n",
    "print(array_1D_colvec)"
   ]
  },
  {
   "cell_type": "markdown",
   "metadata": {},
   "source": [
    "## Concatenating two arrays"
   ]
  },
  {
   "cell_type": "code",
   "execution_count": 29,
   "metadata": {},
   "outputs": [
    {
     "name": "stdout",
     "output_type": "stream",
     "text": [
      "[1 2 3 4 5 6 7 8 9]\n"
     ]
    }
   ],
   "source": [
    "# concatenating three 1 D arrays \n",
    "array_1 = np.array([1,2,3])\n",
    "array_2 = np.array([4,5,6])\n",
    "array_3 = np.array([7,8,9])\n",
    "\n",
    "array_concat = np.concatenate([array_1, array_2, array_3]) # note pass the three arrays in a list\n",
    "print(array_concat)"
   ]
  },
  {
   "cell_type": "code",
   "execution_count": 30,
   "metadata": {},
   "outputs": [
    {
     "name": "stdout",
     "output_type": "stream",
     "text": [
      "[[1 2 3]\n",
      " [4 5 6]\n",
      " [7 8 9]]\n",
      "[[1 2 3]\n",
      " [4 5 6]\n",
      " [7 8 9]\n",
      " [1 2 3]\n",
      " [4 5 6]\n",
      " [7 8 9]]\n",
      "[[1 2 3 1 2 3]\n",
      " [4 5 6 4 5 6]\n",
      " [7 8 9 7 8 9]]\n"
     ]
    }
   ],
   "source": [
    "# concatenate 2 D arrays \n",
    "array_4 = array_concat.reshape((3,3))\n",
    "print(array_4)\n",
    "\n",
    "# say I want to concat the array_4 to itself row-wise i.e. first axis \n",
    "array_concat_row = np.concatenate([array_4, array_4])\n",
    "print(array_concat_row)\n",
    "\n",
    "# say I want to concat the array_4 to itself column-wise i.e. second axis \n",
    "array_concat_col = np.concatenate([array_4, array_4], axis=1)\n",
    "print(array_concat_col)"
   ]
  },
  {
   "cell_type": "markdown",
   "metadata": {},
   "source": [
    "So far, we have concatenated the arrays having the same dimensions. However, in reality, it is often the case where the dimensions are not equal. In such cases of **MIXED DIMENSIONS**, one should preferably use `np.hstack` and `np.vstack`"
   ]
  },
  {
   "cell_type": "code",
   "execution_count": 31,
   "metadata": {},
   "outputs": [
    {
     "data": {
      "text/plain": [
       "array([1, 2, 3])"
      ]
     },
     "execution_count": 31,
     "metadata": {},
     "output_type": "execute_result"
    }
   ],
   "source": [
    "array_1"
   ]
  },
  {
   "cell_type": "code",
   "execution_count": 32,
   "metadata": {},
   "outputs": [
    {
     "data": {
      "text/plain": [
       "array([[1, 2, 3],\n",
       "       [4, 5, 6],\n",
       "       [7, 8, 9]])"
      ]
     },
     "execution_count": 32,
     "metadata": {},
     "output_type": "execute_result"
    }
   ],
   "source": [
    "array_4"
   ]
  },
  {
   "cell_type": "code",
   "execution_count": 41,
   "metadata": {},
   "outputs": [
    {
     "data": {
      "text/plain": [
       "array([[1, 2, 3],\n",
       "       [1, 2, 3],\n",
       "       [4, 5, 6],\n",
       "       [7, 8, 9]])"
      ]
     },
     "execution_count": 41,
     "metadata": {},
     "output_type": "execute_result"
    }
   ],
   "source": [
    "# vertically stack the array \n",
    "np.concatenate([array_1.reshape((1,3)), array_4])"
   ]
  },
  {
   "cell_type": "code",
   "execution_count": 42,
   "metadata": {},
   "outputs": [
    {
     "data": {
      "text/plain": [
       "array([[1, 1, 2, 3],\n",
       "       [2, 4, 5, 6],\n",
       "       [3, 7, 8, 9]])"
      ]
     },
     "execution_count": 42,
     "metadata": {},
     "output_type": "execute_result"
    }
   ],
   "source": [
    "# horizontally stack \n",
    "np.concatenate([array_1.reshape((3,1)), array_4], axis=1)"
   ]
  },
  {
   "cell_type": "code",
   "execution_count": null,
   "metadata": {},
   "outputs": [
    {
     "name": "stdout",
     "output_type": "stream",
     "text": [
      "[[1 2 3]\n",
      " [1 2 3]\n",
      " [4 5 6]\n",
      " [7 8 9]]\n",
      "[[1 2 3]\n",
      " [4 5 6]\n",
      " [7 8 9]\n",
      " [1 2 3]]\n",
      "[[1 1 2 3]\n",
      " [2 4 5 6]\n",
      " [3 7 8 9]]\n"
     ]
    }
   ],
   "source": [
    "# np.hstack and np.vstack\n",
    "# say, I want to concatenate array_1 to array_4 row-wise i.e. vertically stack the arrays  \n",
    "print(np.vstack([array_1, array_4]))\n",
    "\n",
    "# better reshape the 1D vector to a 2D - makes more sense !\n",
    "print(np.vstack([array_4,array_1.reshape((1,3))])) # order matters\n",
    "\n",
    "# Let us now stack horizontally \n",
    "# before we stack it horizontally, we need to make it a column vector \n",
    "array_5 = array_1.reshape((3,1))\n",
    "print(np.hstack([array_5, array_4]))"
   ]
  },
  {
   "cell_type": "markdown",
   "metadata": {},
   "source": [
    "## Splitting of the Arrays"
   ]
  },
  {
   "cell_type": "code",
   "execution_count": 20,
   "metadata": {},
   "outputs": [
    {
     "name": "stdout",
     "output_type": "stream",
     "text": [
      "The concatenated array: [1 2 3 4 5 6 7 8 9]\n",
      "The three splits are: [1 2 3], [4 5 6], [7 8 9]\n",
      "The three splits are: [1 2 3], [4 5 6], [7 8 9]\n"
     ]
    }
   ],
   "source": [
    "# split the array_concat into three different arrays\n",
    "print(f\"The concatenated array: {array_concat}\")\n",
    "\n",
    "arr_split_1, arr_split_2, arr_split_3 = np.split(array_concat, indices_or_sections=[3,6])\n",
    "print(f\"The three splits are: {arr_split_1}, {arr_split_2}, {arr_split_3}\")\n",
    "\n",
    "arr_split_1, arr_split_2, arr_split_3 = np.split(array_concat, indices_or_sections=3)\n",
    "print(f\"The three splits are: {arr_split_1}, {arr_split_2}, {arr_split_3}\")"
   ]
  },
  {
   "cell_type": "code",
   "execution_count": 44,
   "metadata": {},
   "outputs": [
    {
     "data": {
      "text/plain": [
       "array([[1, 2, 3],\n",
       "       [4, 5, 6],\n",
       "       [7, 8, 9],\n",
       "       [1, 2, 3],\n",
       "       [4, 5, 6],\n",
       "       [7, 8, 9]])"
      ]
     },
     "execution_count": 44,
     "metadata": {},
     "output_type": "execute_result"
    }
   ],
   "source": [
    "array_concat_row"
   ]
  },
  {
   "cell_type": "code",
   "execution_count": null,
   "metadata": {},
   "outputs": [
    {
     "name": "stdout",
     "output_type": "stream",
     "text": [
      "[array([[1, 2, 3],\n",
      "       [4, 5, 6],\n",
      "       [7, 8, 9]]), array([[1, 2, 3],\n",
      "       [4, 5, 6],\n",
      "       [7, 8, 9]])]\n",
      "[array([[1, 2, 3],\n",
      "       [4, 5, 6]]), array([[7, 8, 9],\n",
      "       [1, 2, 3],\n",
      "       [4, 5, 6],\n",
      "       [7, 8, 9]])]\n",
      "[array([[1, 2],\n",
      "       [4, 5],\n",
      "       [7, 8],\n",
      "       [1, 2],\n",
      "       [4, 5],\n",
      "       [7, 8]]), array([[3],\n",
      "       [6],\n",
      "       [9],\n",
      "       [3],\n",
      "       [6],\n",
      "       [9]])]\n"
     ]
    }
   ],
   "source": [
    "# Note, earlier I had concatenated array_4 to get array_concat_row - let us split them\n",
    "print(np.vsplit(ary=array_concat_row, indices_or_sections=2)) # vsplits into 2 arrays\n",
    "print(np.vsplit(ary=array_concat_row, indices_or_sections=[2])) # vsplits at index 2 \n",
    "\n",
    "# Note, earlier I had concatenated array_4 to get array_concat_row - let us split them col-wise\n",
    "print(np.hsplit(ary=array_concat_row, indices_or_sections=[2])) # hsplits at index 2 "
   ]
  }
 ],
 "metadata": {
  "kernelspec": {
   "display_name": "Python 3",
   "language": "python",
   "name": "python3"
  },
  "language_info": {
   "codemirror_mode": {
    "name": "ipython",
    "version": 3
   },
   "file_extension": ".py",
   "mimetype": "text/x-python",
   "name": "python",
   "nbconvert_exporter": "python",
   "pygments_lexer": "ipython3",
   "version": "3.13.2"
  }
 },
 "nbformat": 4,
 "nbformat_minor": 2
}
