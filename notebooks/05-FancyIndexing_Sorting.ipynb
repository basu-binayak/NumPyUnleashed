{
 "cells": [
  {
   "cell_type": "markdown",
   "metadata": {},
   "source": [
    "# Fancy Indexing in NumPy\n",
    "\n",
    "## Import NumPy"
   ]
  },
  {
   "cell_type": "code",
   "execution_count": 2,
   "metadata": {},
   "outputs": [],
   "source": [
    "import numpy as np"
   ]
  },
  {
   "cell_type": "markdown",
   "metadata": {},
   "source": [
    "## Fancy Indexing for a One Dimensional Array"
   ]
  },
  {
   "cell_type": "code",
   "execution_count": 3,
   "metadata": {},
   "outputs": [
    {
     "name": "stdout",
     "output_type": "stream",
     "text": [
      "Original arr:[39 43  9 39 39 22  7  9 38]\n",
      "The 2D array formed from afncy indexing is:\n",
      "[[39 22]\n",
      " [39  9]]\n"
     ]
    }
   ],
   "source": [
    "# consider a one dimensional array \n",
    "arr = np.random.randint(50, size=9)\n",
    "print(f\"Original arr:{arr}\")\n",
    "\n",
    "# let us create a 2D array using fancy indexing \n",
    "fancy_ind = [[3,5],\n",
    "             [4,2]]\n",
    "arr_2d = arr[fancy_ind]\n",
    "print(f\"The 2D array formed from afncy indexing is:\\n{arr_2d}\")"
   ]
  },
  {
   "cell_type": "code",
   "execution_count": 6,
   "metadata": {},
   "outputs": [
    {
     "name": "stdout",
     "output_type": "stream",
     "text": [
      "[[ 0  1  2  3]\n",
      " [ 4  5  6  7]\n",
      " [ 8  9 10 11]] \n",
      "\n"
     ]
    },
    {
     "data": {
      "text/plain": [
       "array([ 1,  6, 11])"
      ]
     },
     "execution_count": 6,
     "metadata": {},
     "output_type": "execute_result"
    }
   ],
   "source": [
    "# consider now a multidimensional array \n",
    "arr_2 = np.arange(12).reshape((3,4))\n",
    "print(arr_2,'\\n')\n",
    "\n",
    "arr_2[[0,1,2],[1,2,3]]\n",
    "# [(0,1), (1,2), (2,3)] are the coordinates of the point "
   ]
  },
  {
   "cell_type": "code",
   "execution_count": null,
   "metadata": {},
   "outputs": [
    {
     "data": {
      "text/plain": [
       "array([[ 1,  2,  3],\n",
       "       [ 5,  6,  7],\n",
       "       [ 9, 10, 11]])"
      ]
     },
     "execution_count": 7,
     "metadata": {},
     "output_type": "execute_result"
    }
   ],
   "source": [
    "# but note ... if I want to get a slice of rows and columns \n",
    "arr_2[[0,1,2], 1:]"
   ]
  },
  {
   "cell_type": "code",
   "execution_count": 8,
   "metadata": {},
   "outputs": [
    {
     "name": "stdout",
     "output_type": "stream",
     "text": [
      "[[ 0  1  2  3]\n",
      " [ 4  5  6  7]\n",
      " [ 8  9 10 11]] \n",
      "\n",
      "[ 1  6 11]\n",
      "[[ 1  2  3]\n",
      " [ 5  6  7]\n",
      " [ 9 10 11]]\n"
     ]
    }
   ],
   "source": [
    "# consider now a multidimensional array \n",
    "arr_2 = np.arange(12).reshape((3,4))\n",
    "print(arr_2,'\\n')\n",
    "\n",
    "# let us now do some fancy indexing \n",
    "row = np.array([0,1,2])\n",
    "col = np.array([1,2,3])\n",
    "\n",
    "print(arr_2[row,col])\n",
    "\n",
    "# Instead in fancy indexing, if we consider a row vector or a column vector , we get a 2D array\n",
    "print(arr_2[row[:, np.newaxis], col])"
   ]
  },
  {
   "cell_type": "markdown",
   "metadata": {},
   "source": [
    "In the given code, **broadcasting** plays a key role in allowing the **row vector** and **column vector** to interact correctly when performing **fancy indexing**. Let’s break this down step-by-step to clarify what’s happening.\n",
    "\n",
    "---\n",
    "\n",
    "### The Code Breakdown\n",
    "\n",
    "1. **Array `arr_2`**  \n",
    "   A 2D array of shape `(3, 4)` is created using `np.arange(12).reshape((3, 4))`:  \n",
    "\n",
    "   ```python\n",
    "   arr_2 = np.arange(12).reshape((3, 4))\n",
    "   print(arr_2)\n",
    "   ```\n",
    "   Output:\n",
    "   ```\n",
    "   [[ 0  1  2  3]\n",
    "    [ 4  5  6  7]\n",
    "    [ 8  9 10 11]]\n",
    "   ```\n",
    "\n",
    "2. **Fancy Indexing Without Broadcasting**  \n",
    "   We create two 1D arrays for **row** and **col** indices:  \n",
    "\n",
    "   ```python\n",
    "   row = np.array([0, 1, 2])  # shape (3,)\n",
    "   col = np.array([1, 2, 3])  # shape (3,)\n",
    "   print(arr_2[row, col])\n",
    "   ```\n",
    "   Here, the shapes of `row` and `col` are both `(3,)`, and they are used directly for indexing.  \n",
    "   NumPy pairs each row index with the corresponding column index (element-wise):\n",
    "\n",
    "   - `(row[0], col[0]) -> (0, 1)` → `arr_2[0, 1] = 1`\n",
    "   - `(row[1], col[1]) -> (1, 2)` → `arr_2[1, 2] = 6`\n",
    "   - `(row[2], col[2]) -> (2, 3)` → `arr_2[2, 3] = 11`\n",
    "\n",
    "   Output:\n",
    "   ```\n",
    "   [ 1  6 11]\n",
    "   ```\n",
    "\n",
    "3. **Fancy Indexing With Broadcasting**  \n",
    "   When we introduce a row vector (`row[:, np.newaxis]`) and keep `col` as is, **broadcasting** occurs:\n",
    "\n",
    "   ```python\n",
    "   print(arr_2[row[:, np.newaxis], col])\n",
    "   ```\n",
    "\n",
    "   - `row[:, np.newaxis]` reshapes `row` from shape `(3,)` into shape `(3, 1)` (a column vector).\n",
    "   - `col` has a shape of `(3,)` (a row vector).\n",
    "\n",
    "   Here is the result of their shapes before broadcasting:\n",
    "\n",
    "   - `row[:, np.newaxis]` → shape **(3, 1)**\n",
    "   - `col` → shape **(3,)**\n",
    "\n",
    "   **Broadcasting Rules** apply to make their shapes compatible:\n",
    "   - The `(3, 1)` shape expands horizontally to match `(3,)` → resulting shape is **(3, 3)**.\n",
    "\n",
    "---\n",
    "\n",
    "### Broadcasting in Detail\n",
    "\n",
    "1. **Column Vector (`row[:, np.newaxis]`)**  \n",
    "   ```python\n",
    "   row[:, np.newaxis]\n",
    "   ```\n",
    "   Output:\n",
    "   ```\n",
    "   [[0]\n",
    "    [1]\n",
    "    [2]]\n",
    "   ```\n",
    "   Shape: `(3, 1)` — This represents the row indices as a column vector.\n",
    "\n",
    "2. **Row Vector (`col`)**  \n",
    "   ```python\n",
    "   col\n",
    "   ```\n",
    "   Output:\n",
    "   ```\n",
    "   [1 2 3]\n",
    "   ```\n",
    "   Shape: `(3,)` — This represents the column indices as a row vector.\n",
    "\n",
    "3. **Broadcasting the Indices**  \n",
    "   NumPy **broadcasts** these two shapes `(3, 1)` and `(3,)` to produce a 2D grid of indices with shape `(3, 3)`.\n",
    "\n",
    "   - Row indices:  \n",
    "     ```\n",
    "     [[0]\n",
    "      [1]\n",
    "      [2]]\n",
    "     ```\n",
    "     Broadcasted horizontally to match `(3,)`:  \n",
    "     ```\n",
    "     [[0 0 0]\n",
    "      [1 1 1]\n",
    "      [2 2 2]]\n",
    "     ```\n",
    "\n",
    "   - Column indices:  \n",
    "     ```\n",
    "     [1 2 3]\n",
    "     ```\n",
    "     Broadcasted vertically to match `(3, 1)`:  \n",
    "     ```\n",
    "     [[1 2 3]\n",
    "      [1 2 3]\n",
    "      [1 2 3]]\n",
    "     ```\n",
    "\n",
    "4. **Resulting Pairing of Indices**  \n",
    "   After broadcasting, the row and column indices combine element-wise:\n",
    "\n",
    "   ```\n",
    "   row_indices = [[0, 0, 0],\n",
    "                  [1, 1, 1],\n",
    "                  [2, 2, 2]]\n",
    "\n",
    "   col_indices = [[1, 2, 3],\n",
    "                  [1, 2, 3],\n",
    "                  [1, 2, 3]]\n",
    "   ```\n",
    "\n",
    "   These indices are then applied to `arr_2`:\n",
    "\n",
    "   - For the first row (`row=0`):  \n",
    "     Indices → `(0, 1), (0, 2), (0, 3)` → Values → `[1, 2, 3]`\n",
    "   - For the second row (`row=1`):  \n",
    "     Indices → `(1, 1), (1, 2), (1, 3)` → Values → `[5, 6, 7]`\n",
    "   - For the third row (`row=2`):  \n",
    "     Indices → `(2, 1), (2, 2), (2, 3)` → Values → `[9, 10, 11]`\n",
    "\n",
    "---\n",
    "\n",
    "### Final Output\n",
    "\n",
    "The result is a 2D array of shape `(3, 3)`:\n",
    "\n",
    "```\n",
    "[[ 1  2  3]\n",
    " [ 5  6  7]\n",
    " [ 9 10 11]]\n",
    "```\n",
    "\n",
    "---\n",
    "\n",
    "### Summary of Broadcasting\n",
    "\n",
    "- `row[:, np.newaxis]` reshapes the row indices into a column vector of shape `(3, 1)`.\n",
    "- `col` remains a row vector of shape `(3,)`.\n",
    "- Broadcasting combines these two shapes into a grid of shape `(3, 3)`:\n",
    "   - Rows expand horizontally.\n",
    "   - Columns expand vertically.\n",
    "- The resulting grid of indices is used for fancy indexing, producing a 2D array. \n",
    "\n",
    "This demonstrates how broadcasting simplifies the process of combining row and column vectors for multidimensional indexing."
   ]
  },
  {
   "cell_type": "markdown",
   "metadata": {},
   "source": [
    "## Combined Indexing \n",
    "\n",
    "Fancy Indexing can be combined with other forms of indexing too!"
   ]
  },
  {
   "cell_type": "code",
   "execution_count": 9,
   "metadata": {},
   "outputs": [
    {
     "name": "stdout",
     "output_type": "stream",
     "text": [
      "[ 9 10 11] \n",
      "\n",
      "[[ 5  6  7]\n",
      " [ 9 10 11]] \n",
      "\n",
      "[[ 1  2  3]\n",
      " [ 5  6  7]\n",
      " [ 9 10 11]]\n"
     ]
    }
   ],
   "source": [
    "# combine with simple indices \n",
    "print(arr_2[2, col],'\\n')\n",
    "\n",
    "# combine with slicing \n",
    "print(arr_2[1:,col],'\\n')\n",
    "\n",
    "# combine with boolean masking\n",
    "print(arr_2[row[:, np.newaxis], [False, True, True, True]]) "
   ]
  },
  {
   "cell_type": "markdown",
   "metadata": {},
   "source": [
    "## Modifying Values with Fancy Indexing "
   ]
  },
  {
   "cell_type": "code",
   "execution_count": 21,
   "metadata": {},
   "outputs": [
    {
     "name": "stdout",
     "output_type": "stream",
     "text": [
      "[80 74 78 51 14 66 78 63 93 87]\n"
     ]
    }
   ],
   "source": [
    "# let us take an array \n",
    "arr_1 = np.random.randint(100, size=10)\n",
    "print(arr_1)"
   ]
  },
  {
   "cell_type": "code",
   "execution_count": 22,
   "metadata": {},
   "outputs": [
    {
     "name": "stdout",
     "output_type": "stream",
     "text": [
      "[ 80  74 100  51 100  66 100  63 100  87]\n"
     ]
    }
   ],
   "source": [
    "# let us now use fancy indexing to change the numbers \n",
    "index = [2,4,6,8]\n",
    "arr_1[index] = 100\n",
    "\n",
    "print(arr_1)"
   ]
  },
  {
   "cell_type": "code",
   "execution_count": 23,
   "metadata": {},
   "outputs": [
    {
     "name": "stdout",
     "output_type": "stream",
     "text": [
      "[ 80  74 200  51 200  66 200  63 200  87]\n"
     ]
    }
   ],
   "source": [
    "arr_1[index]+=100\n",
    "print(arr_1)"
   ]
  },
  {
   "cell_type": "markdown",
   "metadata": {},
   "source": [
    "Howver, sometimes it may lead to unexpected results! Let us see them."
   ]
  },
  {
   "cell_type": "code",
   "execution_count": 25,
   "metadata": {},
   "outputs": [
    {
     "name": "stdout",
     "output_type": "stream",
     "text": [
      "[0. 0. 1. 2. 3. 0. 0. 0. 0. 0.]\n"
     ]
    }
   ],
   "source": [
    "arr_0 = np.zeros(10)\n",
    "\n",
    "#say I want to add 1 to certain indices i.e. at index 2 add 1 , index 3 add 1 two times and at index 4 add1 three times \n",
    "index = [2,3,3,4,4,4]\n",
    "np.add.at(arr_0, index, 1)\n",
    "print(arr_0)"
   ]
  },
  {
   "cell_type": "code",
   "execution_count": 26,
   "metadata": {},
   "outputs": [
    {
     "name": "stdout",
     "output_type": "stream",
     "text": [
      "[0. 0. 1. 1. 1. 0. 0. 0. 0. 0.]\n"
     ]
    }
   ],
   "source": [
    "# Note here if i had done the following operation instead \n",
    "arr_0 = np.zeros(10)\n",
    "arr_0[index]+=1\n",
    "\n",
    "print(arr_0)"
   ]
  },
  {
   "cell_type": "markdown",
   "metadata": {},
   "source": [
    "The reason for this result is, we are not doing here multiple increments but multiple assignments!"
   ]
  },
  {
   "cell_type": "markdown",
   "metadata": {},
   "source": [
    "### Example of Binning Data - Histogram by hand!"
   ]
  },
  {
   "cell_type": "code",
   "execution_count": 10,
   "metadata": {},
   "outputs": [],
   "source": [
    "rng = np.random.default_rng(10)\n",
    "arr_1 = rng.normal(size=1000)\n",
    "\n",
    "# let us create a histogram \n",
    "bins = np.linspace(-5,5,50) # crate the bins - here we have 50 bins from -5 to 5 \n",
    "counts = np.zeros_like(bins) # now make all the bins have 0 values at start \n",
    "\n",
    "# find the appropriate bin for each element of the array\n",
    "i = np.searchsorted(bins, arr_1) \n",
    "\n",
    "# add 1 to each one of these bins \n",
    "np.add.at(counts,i,1)"
   ]
  },
  {
   "cell_type": "code",
   "execution_count": null,
   "metadata": {},
   "outputs": [
    {
     "data": {
      "text/plain": [
       "array([ 0.,  0.,  0.,  0.,  0.,  0.,  0.,  0.,  1.,  2.,  0.,  4.,  2.,\n",
       "        3.,  8.,  9., 15., 28., 32., 40., 48., 65., 65., 81., 88., 70.,\n",
       "       90., 61., 73., 58., 45., 30., 33., 16., 14.,  8.,  3.,  4.,  3.,\n",
       "        1.,  0.,  0.,  0.,  0.,  0.,  0.,  0.,  0.,  0.,  0.])"
      ]
     },
     "execution_count": 11,
     "metadata": {},
     "output_type": "execute_result"
    }
   ],
   "source": [
    "counts # see th bin counts "
   ]
  },
  {
   "cell_type": "code",
   "execution_count": 14,
   "metadata": {},
   "outputs": [
    {
     "data": {
      "text/plain": [
       "(array([ 0.,  0.,  0.,  0.,  0.,  0.,  0.,  1.,  2.,  0.,  4.,  2.,  3.,\n",
       "         8.,  9., 15., 28., 32., 40., 48., 65., 65., 81., 88., 70., 90.,\n",
       "        61., 73., 58., 45., 30., 33., 16., 14.,  8.,  3.,  4.,  3.,  1.,\n",
       "         0.,  0.,  0.,  0.,  0.,  0.,  0.,  0.,  0.,  0.]),\n",
       " array([-5.        , -4.79591837, -4.59183673, -4.3877551 , -4.18367347,\n",
       "        -3.97959184, -3.7755102 , -3.57142857, -3.36734694, -3.16326531,\n",
       "        -2.95918367, -2.75510204, -2.55102041, -2.34693878, -2.14285714,\n",
       "        -1.93877551, -1.73469388, -1.53061224, -1.32653061, -1.12244898,\n",
       "        -0.91836735, -0.71428571, -0.51020408, -0.30612245, -0.10204082,\n",
       "         0.10204082,  0.30612245,  0.51020408,  0.71428571,  0.91836735,\n",
       "         1.12244898,  1.32653061,  1.53061224,  1.73469388,  1.93877551,\n",
       "         2.14285714,  2.34693878,  2.55102041,  2.75510204,  2.95918367,\n",
       "         3.16326531,  3.36734694,  3.57142857,  3.7755102 ,  3.97959184,\n",
       "         4.18367347,  4.3877551 ,  4.59183673,  4.79591837,  5.        ]),\n",
       " [<matplotlib.patches.Polygon at 0x234613b2fd0>])"
      ]
     },
     "execution_count": 14,
     "metadata": {},
     "output_type": "execute_result"
    },
    {
     "data": {
      "image/png": "[encoded data removed]",
      "text/plain": [
       "<Figure size 640x480 with 1 Axes>"
      ]
     },
     "metadata": {},
     "output_type": "display_data"
    }
   ],
   "source": [
    "# using the hist\n",
    "import matplotlib.pyplot as plt \n",
    "plt.hist(arr_1, bins, histtype='step')"
   ]
  },
  {
   "cell_type": "markdown",
   "metadata": {},
   "source": [
    "This function will create a nearly identical plot to the one just shown. To compute the\n",
    "binning, Matplotlib uses the np.histogram function, which does a very similar computation\n",
    "to what we did before. Let’s compare the two here:"
   ]
  },
  {
   "cell_type": "code",
   "execution_count": 43,
   "metadata": {},
   "outputs": [
    {
     "name": "stdout",
     "output_type": "stream",
     "text": [
      "NumPy histogram (100 points):\n",
      "16 µs ± 2.24 µs per loop (mean ± std. dev. of 7 runs, 10,000 loops each)\n",
      "Custom histogram (100 points):\n",
      "16.8 µs ± 129 ns per loop (mean ± std. dev. of 7 runs, 100,000 loops each)\n"
     ]
    }
   ],
   "source": [
    "print(f\"NumPy histogram ({len(arr_1)} points):\")\n",
    "%timeit counts, edges = np.histogram(arr_1, bins)\n",
    "\n",
    "print(f\"Custom histogram ({len(arr_1)} points):\")\n",
    "%timeit np.add.at(counts, np.searchsorted(bins, arr_1), 1)"
   ]
  },
  {
   "cell_type": "code",
   "execution_count": 42,
   "metadata": {},
   "outputs": [
    {
     "name": "stdout",
     "output_type": "stream",
     "text": [
      "NumPy histogram (1000000 points):\n",
      "53.3 ms ± 556 µs per loop (mean ± std. dev. of 7 runs, 10 loops each)\n",
      "Custom histogram (1000000 points):\n",
      "79.2 ms ± 550 µs per loop (mean ± std. dev. of 7 runs, 10 loops each)\n"
     ]
    }
   ],
   "source": [
    "x = rng.normal(size=1000000)\n",
    "\n",
    "print(f\"NumPy histogram ({len(x)} points):\")\n",
    "%timeit counts, edges = np.histogram(x, bins)\n",
    "\n",
    "print(f\"Custom histogram ({len(x)} points):\")\n",
    "%timeit np.add.at(counts, np.searchsorted(bins, x), 1)"
   ]
  },
  {
   "cell_type": "markdown",
   "metadata": {},
   "source": [
    "### Note on `np.searchsorted()`\n",
    "\n",
    "`np.searchsorted` is a function in NumPy that is used to **find indices** where elements should be inserted into a sorted array in order to maintain its sorted order.\n",
    "\n",
    "---\n",
    "\n",
    "### **Syntax**\n",
    "\n",
    "```python\n",
    "numpy.searchsorted(a, v, side='left', sorter=None)\n",
    "```\n",
    "\n",
    "- **`a`**: Input **sorted** 1D array.\n",
    "- **`v`**: Values to insert into `a` to find the appropriate index.\n",
    "- **`side`**:  \n",
    "   - `'left'` (default): Returns the first suitable index where `v` can be inserted.  \n",
    "   - `'right'`: Returns the last suitable index where `v` can be inserted.\n",
    "- **`sorter`**: An optional argument that specifies the indices of the array `a` that would sort it.\n",
    "\n",
    "---\n",
    "\n",
    "### **How It Works**\n",
    "\n",
    "- `np.searchsorted` searches for the indices where elements in `v` should go to maintain the order of the sorted array `a`.\n",
    "- If `side='left'`, it returns the index of the first position where the element can be inserted.\n",
    "- If `side='right'`, it returns the index of the last position where the element can be inserted.\n",
    "\n",
    "---\n",
    "\n",
    "### **Examples**\n",
    "\n",
    "#### **1. Basic Example (side='left')**\n",
    "```python\n",
    "import numpy as np\n",
    "\n",
    "a = np.array([1, 3, 5, 7, 9])\n",
    "v = [4, 6, 8]\n",
    "\n",
    "indices = np.searchsorted(a, v, side='left')\n",
    "print(indices)\n",
    "```\n",
    "**Output**:\n",
    "```\n",
    "[2 3 4]\n",
    "```\n",
    "\n",
    "- `4` should be inserted at index `2` to keep `a` sorted.\n",
    "- `6` should be inserted at index `3`.\n",
    "- `8` should be inserted at index `4`.\n",
    "\n",
    "---\n",
    "\n",
    "#### **2. Using `side='right'`**\n",
    "```python\n",
    "a = np.array([1, 3, 5, 7, 9])\n",
    "v = [5, 7, 9]\n",
    "\n",
    "indices = np.searchsorted(a, v, side='right')\n",
    "print(indices)\n",
    "```\n",
    "**Output**:\n",
    "```\n",
    "[3 4 5]\n",
    "```\n",
    "\n",
    "Here, `side='right'` ensures the elements are inserted **after** any existing occurrences.\n",
    "\n",
    "- `5` is inserted at index `3`.\n",
    "- `7` is inserted at index `4`.\n",
    "- `9` is inserted at index `5`.\n",
    "\n",
    "---\n",
    "\n",
    "#### **3. Search in a Custom-Sorted Array (with `sorter`)**\n",
    "\n",
    "If `a` is not sorted but you have the sorting order:\n",
    "```python\n",
    "a = np.array([10, 20, 15, 30])\n",
    "sorter = np.argsort(a)  # Sorting indices\n",
    "v = [25, 5]\n",
    "\n",
    "indices = np.searchsorted(a, v, sorter=sorter)\n",
    "print(indices)\n",
    "```\n",
    "\n",
    "**Output**:\n",
    "```\n",
    "[3 0]\n",
    "```\n",
    "\n",
    "- `sorter = [0, 2, 1, 3]` is the sorting order of `a`.  \n",
    "- `25` would go at index `3`.  \n",
    "- `5` would go at index `0`.\n",
    "\n",
    "---\n",
    "\n",
    "### **4. Inserting Values into the Array**\n",
    "\n",
    "`np.searchsorted` is often combined with `np.insert` to insert elements in sorted order:\n",
    "```python\n",
    "a = np.array([1, 3, 5, 7])\n",
    "v = [2, 4]\n",
    "\n",
    "indices = np.searchsorted(a, v)\n",
    "a = np.insert(a, indices, v)\n",
    "\n",
    "print(a)\n",
    "```\n",
    "\n",
    "**Output**:\n",
    "```\n",
    "[1 2 3 4 5 7]\n",
    "```\n",
    "\n",
    "---\n",
    "\n",
    "### **Use Cases**\n",
    "\n",
    "- Finding where to insert values to keep an array sorted.\n",
    "- Efficient binary search on sorted arrays.\n",
    "- Combining with `np.insert` for maintaining sorted lists.\n",
    "\n"
   ]
  },
  {
   "cell_type": "code",
   "execution_count": 38,
   "metadata": {},
   "outputs": [
    {
     "data": {
      "text/plain": [
       "array([[77, 95, 26, 20, 79],\n",
       "       [82, 51, 14, 83, 51],\n",
       "       [15, 13, 41, 68, 40],\n",
       "       [84,  0, 42, 52, 95],\n",
       "       [23, 82,  7, 33, 74],\n",
       "       [57, 93, 75, 91, 82]])"
      ]
     },
     "execution_count": 38,
     "metadata": {},
     "output_type": "execute_result"
    }
   ],
   "source": [
    "# Sorting a 2D array\n",
    "\n",
    "# consider this 2D array\n",
    "rng = np.random.default_rng(10)\n",
    "int_2D = rng.integers(0,100,30).reshape((6,5))\n",
    "int_2D"
   ]
  },
  {
   "cell_type": "code",
   "execution_count": 32,
   "metadata": {},
   "outputs": [
    {
     "data": {
      "text/plain": [
       "array([[20, 26, 77, 79, 95],\n",
       "       [14, 51, 51, 82, 83],\n",
       "       [13, 15, 40, 41, 68],\n",
       "       [ 0, 42, 52, 84, 95],\n",
       "       [ 7, 23, 33, 74, 82],\n",
       "       [57, 75, 82, 91, 93]])"
      ]
     },
     "execution_count": 32,
     "metadata": {},
     "output_type": "execute_result"
    }
   ],
   "source": [
    "# I want to sort along the rows \n",
    "np.sort(int_2D, axis=1, kind='heapsort')"
   ]
  },
  {
   "cell_type": "code",
   "execution_count": null,
   "metadata": {},
   "outputs": [
    {
     "data": {
      "text/plain": [
       "array([[3, 2, 0, 4, 1],\n",
       "       [2, 4, 1, 0, 3],\n",
       "       [1, 0, 4, 2, 3],\n",
       "       [1, 2, 3, 0, 4],\n",
       "       [2, 0, 3, 4, 1],\n",
       "       [0, 2, 4, 3, 1]])"
      ]
     },
     "execution_count": 41,
     "metadata": {},
     "output_type": "execute_result"
    }
   ],
   "source": [
    "# the indices for each row sorted accordingly \n",
    "np.argsort(int_2D, axis=1, kind='heapsort', )"
   ]
  },
  {
   "cell_type": "code",
   "execution_count": 43,
   "metadata": {},
   "outputs": [
    {
     "data": {
      "text/plain": [
       "array([[1, 4, 0, 2, 3],\n",
       "       [3, 0, 1, 4, 2],\n",
       "       [3, 2, 4, 0, 1],\n",
       "       [4, 0, 3, 2, 1],\n",
       "       [1, 4, 3, 0, 2],\n",
       "       [1, 3, 4, 2, 0]])"
      ]
     },
     "execution_count": 43,
     "metadata": {},
     "output_type": "execute_result"
    }
   ],
   "source": [
    "# if we want it the be sorted in a descending order \n",
    "np.argsort(int_2D, axis=1, kind='heapsort', )[:,::-1]"
   ]
  },
  {
   "cell_type": "code",
   "execution_count": 33,
   "metadata": {},
   "outputs": [
    {
     "data": {
      "text/plain": [
       "array([[15,  0,  7, 20, 40],\n",
       "       [23, 13, 14, 33, 51],\n",
       "       [57, 51, 26, 52, 74],\n",
       "       [77, 82, 41, 68, 79],\n",
       "       [82, 93, 42, 83, 82],\n",
       "       [84, 95, 75, 91, 95]])"
      ]
     },
     "execution_count": 33,
     "metadata": {},
     "output_type": "execute_result"
    }
   ],
   "source": [
    "# I want to sort along the columns \n",
    "np.sort(int_2D, axis=0)"
   ]
  },
  {
   "cell_type": "code",
   "execution_count": null,
   "metadata": {},
   "outputs": [
    {
     "data": {
      "text/plain": [
       "array([[20, 26, 77, 79, 95],\n",
       "       [14, 51, 51, 82, 83],\n",
       "       [13, 15, 40, 41, 68],\n",
       "       [ 0, 42, 52, 84, 95],\n",
       "       [ 7, 23, 33, 74, 82],\n",
       "       [57, 75, 82, 91, 93]])"
      ]
     },
     "execution_count": 40,
     "metadata": {},
     "output_type": "execute_result"
    }
   ],
   "source": [
    "# now , say, we want a partial sort - i.e. first 2 slots of each row must have the smallest element from that row \n",
    "rng = np.random.default_rng(10)\n",
    "int_2D = rng.integers(0,100,30).reshape((6,5))\n",
    "\n",
    "np.partition(int_2D, kth=2, axis=1)"
   ]
  },
  {
   "cell_type": "markdown",
   "metadata": {},
   "source": [
    "\n",
    "\n",
    "## 🧠 What is `np.lexsort()`?\n",
    "\n",
    "> **`np.lexsort()` performs an indirect sort using multiple sorting keys.**\n",
    "\n",
    "It returns the **indices** that would sort an array (or arrays), using the **last key as the primary sort**, the second-last as the secondary, and so on — like **lexicographic order** (hence the name).\n",
    "\n",
    "---\n",
    "\n",
    "### 📊 Real-Life Example: Sort Students by Class, then by Marks\n",
    "\n",
    "```python\n",
    "import numpy as np\n",
    "\n",
    "# Let's say we have:\n",
    "# class_numbers = [10, 10, 9, 10, 9]\n",
    "# marks         = [88, 92, 85, 95, 90]\n",
    "\n",
    "class_numbers = np.array([10, 10, 9, 10, 9])\n",
    "marks = np.array([88, 92, 85, 95, 90])\n",
    "\n",
    "# Sort by class, then by marks within each class\n",
    "idx = np.lexsort((marks, class_numbers))\n",
    "\n",
    "print(idx)  # Sorted indices\n",
    "```\n",
    "\n",
    "### 🧾 Output:\n",
    "```\n",
    "[2 4 0 1 3]\n",
    "```\n",
    "\n",
    "So the sorted records would be:\n",
    "```python\n",
    "for i in idx:\n",
    "    print(f\"Class: {class_numbers[i]}, Marks: {marks[i]}\")\n",
    "```\n",
    "\n",
    "### ✅ Output:\n",
    "```\n",
    "Class: 9, Marks: 85\n",
    "Class: 9, Marks: 90\n",
    "Class: 10, Marks: 88\n",
    "Class: 10, Marks: 92\n",
    "Class: 10, Marks: 95\n",
    "```\n",
    "\n",
    "---\n",
    "\n",
    "### 🧩 Syntax Recap:\n",
    "\n",
    "```python\n",
    "np.lexsort((key1, key2, ..., keyN))\n",
    "```\n",
    "\n",
    "- Sorts by **keyN** first (primary key), then keyN−1 (secondary), and so on.\n",
    "- All keys must be the same shape.\n",
    "- Returns an array of sorted **indices** — which you can use to index the original arrays.\n",
    "\n",
    "---\n",
    "\n",
    "### 🧙 Why Use `lexsort()`?\n",
    "\n",
    "- To sort using **multiple keys** (like sorting a DataFrame by two columns)\n",
    "- Much faster and cleaner than writing nested loops or using `argsort()` repeatedly\n",
    "\n",
    "---\n",
    "\n",
    "### ⚠️ Tip:\n",
    "\n",
    "If you're coming from `pandas`, this is like:\n",
    "\n",
    "```python\n",
    "df.sort_values(by=['class_number', 'marks'])\n",
    "```\n",
    "\n",
    "But in pure NumPy form ✨.\n",
    "\n",
    "---\n"
   ]
  }
 ],
 "metadata": {
  "kernelspec": {
   "display_name": "Python 3",
   "language": "python",
   "name": "python3"
  },
  "language_info": {
   "codemirror_mode": {
    "name": "ipython",
    "version": 3
   },
   "file_extension": ".py",
   "mimetype": "text/x-python",
   "name": "python",
   "nbconvert_exporter": "python",
   "pygments_lexer": "ipython3",
   "version": "3.13.2"
  }
 },
 "nbformat": 4,
 "nbformat_minor": 2
}
